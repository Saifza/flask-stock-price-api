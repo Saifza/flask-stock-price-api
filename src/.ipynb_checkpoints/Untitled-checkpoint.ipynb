{
 "cells": [
  {
   "cell_type": "code",
   "execution_count": 1,
   "id": "31c44b50-4df9-454c-83a1-b6a3d6cb9c8d",
   "metadata": {},
   "outputs": [],
   "source": [
    "execute_cell_10 = False\n",
    "execute_cell_8 = True"
   ]
  },
  {
   "cell_type": "code",
   "execution_count": 2,
   "id": "d36dfca2-90f2-45df-9735-9116eaad7418",
   "metadata": {},
   "outputs": [
    {
     "name": "stdout",
     "output_type": "stream",
     "text": [
      "<class 'pandas.core.frame.DataFrame'>\n",
      "DatetimeIndex: 1258 entries, 2020-01-02 to 2024-12-31\n",
      "Data columns (total 11 columns):\n",
      " #   Column             Non-Null Count  Dtype  \n",
      "---  ------             --------------  -----  \n",
      " 0   Open               1258 non-null   float64\n",
      " 1   High               1258 non-null   float64\n",
      " 2   Low                1258 non-null   float64\n",
      " 3   Close              1258 non-null   float64\n",
      " 4   Volume             1258 non-null   int64  \n",
      " 5   Dividends          1258 non-null   float64\n",
      " 6   Stock Splits       1258 non-null   float64\n",
      " 7   Interest Rate      42 non-null     float64\n",
      " 8   Inflation Rate     42 non-null     float64\n",
      " 9   GDP Growth         13 non-null     float64\n",
      " 10  Unemployment Rate  42 non-null     float64\n",
      "dtypes: float64(10), int64(1)\n",
      "memory usage: 117.9 KB\n",
      "None\n"
     ]
    },
    {
     "data": {
      "text/html": [
       "<div>\n",
       "<style scoped>\n",
       "    .dataframe tbody tr th:only-of-type {\n",
       "        vertical-align: middle;\n",
       "    }\n",
       "\n",
       "    .dataframe tbody tr th {\n",
       "        vertical-align: top;\n",
       "    }\n",
       "\n",
       "    .dataframe thead th {\n",
       "        text-align: right;\n",
       "    }\n",
       "</style>\n",
       "<table border=\"1\" class=\"dataframe\">\n",
       "  <thead>\n",
       "    <tr style=\"text-align: right;\">\n",
       "      <th></th>\n",
       "      <th>Open</th>\n",
       "      <th>High</th>\n",
       "      <th>Low</th>\n",
       "      <th>Close</th>\n",
       "      <th>Volume</th>\n",
       "      <th>Dividends</th>\n",
       "      <th>Stock Splits</th>\n",
       "      <th>Interest Rate</th>\n",
       "      <th>Inflation Rate</th>\n",
       "      <th>GDP Growth</th>\n",
       "      <th>Unemployment Rate</th>\n",
       "    </tr>\n",
       "    <tr>\n",
       "      <th>Date</th>\n",
       "      <th></th>\n",
       "      <th></th>\n",
       "      <th></th>\n",
       "      <th></th>\n",
       "      <th></th>\n",
       "      <th></th>\n",
       "      <th></th>\n",
       "      <th></th>\n",
       "      <th></th>\n",
       "      <th></th>\n",
       "      <th></th>\n",
       "    </tr>\n",
       "  </thead>\n",
       "  <tbody>\n",
       "    <tr>\n",
       "      <th>2020-01-02</th>\n",
       "      <td>71.721011</td>\n",
       "      <td>72.776591</td>\n",
       "      <td>71.466805</td>\n",
       "      <td>72.716064</td>\n",
       "      <td>135480400</td>\n",
       "      <td>0.0</td>\n",
       "      <td>0.0</td>\n",
       "      <td>NaN</td>\n",
       "      <td>NaN</td>\n",
       "      <td>NaN</td>\n",
       "      <td>NaN</td>\n",
       "    </tr>\n",
       "    <tr>\n",
       "      <th>2020-01-03</th>\n",
       "      <td>71.941343</td>\n",
       "      <td>72.771760</td>\n",
       "      <td>71.783977</td>\n",
       "      <td>72.009132</td>\n",
       "      <td>146322800</td>\n",
       "      <td>0.0</td>\n",
       "      <td>0.0</td>\n",
       "      <td>NaN</td>\n",
       "      <td>NaN</td>\n",
       "      <td>NaN</td>\n",
       "      <td>NaN</td>\n",
       "    </tr>\n",
       "    <tr>\n",
       "      <th>2020-01-06</th>\n",
       "      <td>71.127866</td>\n",
       "      <td>72.621646</td>\n",
       "      <td>70.876075</td>\n",
       "      <td>72.582909</td>\n",
       "      <td>118387200</td>\n",
       "      <td>0.0</td>\n",
       "      <td>0.0</td>\n",
       "      <td>NaN</td>\n",
       "      <td>NaN</td>\n",
       "      <td>NaN</td>\n",
       "      <td>NaN</td>\n",
       "    </tr>\n",
       "    <tr>\n",
       "      <th>2020-01-07</th>\n",
       "      <td>72.592601</td>\n",
       "      <td>72.849231</td>\n",
       "      <td>72.021238</td>\n",
       "      <td>72.241554</td>\n",
       "      <td>108872000</td>\n",
       "      <td>0.0</td>\n",
       "      <td>0.0</td>\n",
       "      <td>NaN</td>\n",
       "      <td>NaN</td>\n",
       "      <td>NaN</td>\n",
       "      <td>NaN</td>\n",
       "    </tr>\n",
       "    <tr>\n",
       "      <th>2020-01-08</th>\n",
       "      <td>71.943759</td>\n",
       "      <td>73.706279</td>\n",
       "      <td>71.943759</td>\n",
       "      <td>73.403648</td>\n",
       "      <td>132079200</td>\n",
       "      <td>0.0</td>\n",
       "      <td>0.0</td>\n",
       "      <td>NaN</td>\n",
       "      <td>NaN</td>\n",
       "      <td>NaN</td>\n",
       "      <td>NaN</td>\n",
       "    </tr>\n",
       "  </tbody>\n",
       "</table>\n",
       "</div>"
      ],
      "text/plain": [
       "                 Open       High        Low      Close     Volume  Dividends  \\\n",
       "Date                                                                           \n",
       "2020-01-02  71.721011  72.776591  71.466805  72.716064  135480400        0.0   \n",
       "2020-01-03  71.941343  72.771760  71.783977  72.009132  146322800        0.0   \n",
       "2020-01-06  71.127866  72.621646  70.876075  72.582909  118387200        0.0   \n",
       "2020-01-07  72.592601  72.849231  72.021238  72.241554  108872000        0.0   \n",
       "2020-01-08  71.943759  73.706279  71.943759  73.403648  132079200        0.0   \n",
       "\n",
       "            Stock Splits  Interest Rate  Inflation Rate  GDP Growth  \\\n",
       "Date                                                                  \n",
       "2020-01-02           0.0            NaN             NaN         NaN   \n",
       "2020-01-03           0.0            NaN             NaN         NaN   \n",
       "2020-01-06           0.0            NaN             NaN         NaN   \n",
       "2020-01-07           0.0            NaN             NaN         NaN   \n",
       "2020-01-08           0.0            NaN             NaN         NaN   \n",
       "\n",
       "            Unemployment Rate  \n",
       "Date                           \n",
       "2020-01-02                NaN  \n",
       "2020-01-03                NaN  \n",
       "2020-01-06                NaN  \n",
       "2020-01-07                NaN  \n",
       "2020-01-08                NaN  "
      ]
     },
     "metadata": {},
     "output_type": "display_data"
    }
   ],
   "source": [
    "import pandas as pd\n",
    "\n",
    "# Load the merged dataset\n",
    "file_path = \"../data/processed/merged_data.csv\"  # Adjust if needed\n",
    "df = pd.read_csv(file_path, parse_dates=[\"Date\"], index_col=\"Date\")\n",
    "\n",
    "# Display basic info\n",
    "print(df.info())\n",
    "display(df.head())\n"
   ]
  },
  {
   "cell_type": "code",
   "execution_count": 3,
   "id": "24e51ce6-8532-4aab-a324-9e86ab1fee98",
   "metadata": {},
   "outputs": [
    {
     "name": "stdout",
     "output_type": "stream",
     "text": [
      "Interest Rate        1216\n",
      "Inflation Rate       1216\n",
      "GDP Growth           1245\n",
      "Unemployment Rate    1216\n",
      "dtype: int64\n"
     ]
    }
   ],
   "source": [
    "# Check for missing values\n",
    "missing_values = df.isnull().sum()\n",
    "print(missing_values[missing_values > 0])\n"
   ]
  },
  {
   "cell_type": "code",
   "execution_count": 4,
   "id": "8766f634-f78d-4bb9-b700-08e6932715c9",
   "metadata": {},
   "outputs": [
    {
     "name": "stdout",
     "output_type": "stream",
     "text": [
      "80\n"
     ]
    }
   ],
   "source": [
    "# Fill missing values using forward fill (propagating previous values)\n",
    "df = df.ffill()\n",
    "\n",
    "# Alternatively, use backward fill\n",
    "# df.fillna(method='bfill', inplace=True)\n",
    "\n",
    "# Verify missing values are handled\n",
    "print(df.isnull().sum().sum())  # Should be 0\n"
   ]
  },
  {
   "cell_type": "code",
   "execution_count": 5,
   "id": "8655f411-48d6-4cea-b9dc-7555bb31e130",
   "metadata": {},
   "outputs": [
    {
     "data": {
      "image/png": "[encoded data removed]",
      "text/plain": [
       "<Figure size 1200x500 with 1 Axes>"
      ]
     },
     "metadata": {},
     "output_type": "display_data"
    },
    {
     "data": {
      "image/png": "[encoded data removed]",
      "text/plain": [
       "<Figure size 1200x500 with 1 Axes>"
      ]
     },
     "metadata": {},
     "output_type": "display_data"
    }
   ],
   "source": [
    "import matplotlib.pyplot as plt\n",
    "\n",
    "# Plot closing stock price\n",
    "df['Close'].plot(figsize=(12, 5), title=\"Stock Closing Price\", ylabel=\"Price\", grid=True)\n",
    "plt.show()\n",
    "\n",
    "# Plot an economic indicator (e.g., Interest Rate)\n",
    "df['Interest Rate'].plot(figsize=(12, 5), title=\"Interest Rate Over Time\", ylabel=\"Rate\", grid=True)\n",
    "plt.show()\n"
   ]
  },
  {
   "cell_type": "code",
   "execution_count": 6,
   "id": "cc3391ed-ba6a-46d5-be69-19bea1483c99",
   "metadata": {},
   "outputs": [
    {
     "name": "stdout",
     "output_type": "stream",
     "text": [
      "Close                1.000000\n",
      "High                 0.999398\n",
      "Low                  0.999395\n",
      "Open                 0.998661\n",
      "GDP Growth           0.874802\n",
      "Inflation Rate       0.860061\n",
      "Interest Rate        0.694199\n",
      "Dividends            0.009217\n",
      "Stock Splits        -0.017672\n",
      "Unemployment Rate   -0.546314\n",
      "Volume              -0.638028\n",
      "Name: Close, dtype: float64\n"
     ]
    }
   ],
   "source": [
    "# Compute correlation matrix\n",
    "correlation_matrix = df.corr()\n",
    "\n",
    "# Display correlation with the stock's closing price\n",
    "print(correlation_matrix[\"Close\"].sort_values(ascending=False))\n"
   ]
  },
  {
   "cell_type": "code",
   "execution_count": 7,
   "id": "1d5ca027-45fc-4fb7-8c9b-ad363edd59d4",
   "metadata": {},
   "outputs": [
    {
     "name": "stdout",
     "output_type": "stream",
     "text": [
      "Fitting 5 folds for each of 50 candidates, totalling 250 fits\n",
      "Optimized XGBoost - MAE: 1.0454001956515846\n",
      "Optimized XGBoost - MSE: 2.4192426888863934\n",
      "Optimized XGBoost - RMSE: 1.5553914905535497\n",
      "Optimized XGBoost - R²: 0.9986167995732044\n",
      "Best Parameters: {'subsample': 0.6, 'reg_lambda': 1, 'reg_alpha': 1, 'n_estimators': 500, 'min_child_weight': 5, 'max_depth': 9, 'learning_rate': 0.05, 'colsample_bytree': 1.0}\n"
     ]
    }
   ],
   "source": [
    "from sklearn.model_selection import train_test_split, RandomizedSearchCV\n",
    "from sklearn.preprocessing import StandardScaler\n",
    "from sklearn.metrics import mean_absolute_error, mean_squared_error, r2_score\n",
    "from xgboost import XGBRegressor\n",
    "import numpy as np\n",
    "\n",
    "# Select only the important features based on the feature importance plot\n",
    "features = [\"Open\", \"High\", \"Low\", \"GDP Growth\"]  # Dropped less important ones\n",
    "target = \"Close\"\n",
    "\n",
    "# Create feature & target datasets\n",
    "X = df[features]\n",
    "y = df[target]\n",
    "\n",
    "# Split into training and testing sets\n",
    "X_train, X_test, y_train, y_test = train_test_split(X, y, test_size=0.2, random_state=42)\n",
    "\n",
    "# Handle missing values\n",
    "X_train = X_train.ffill().bfill()\n",
    "X_test = X_test.ffill().bfill()\n",
    "\n",
    "# Scale the data\n",
    "scaler = StandardScaler()\n",
    "X_train_scaled = scaler.fit_transform(X_train)\n",
    "X_test_scaled = scaler.transform(X_test)\n",
    "\n",
    "# Define the XGBoost model\n",
    "xgb = XGBRegressor(objective='reg:squarederror', random_state=42)\n",
    "\n",
    "# Define a refined parameter grid for hyperparameter tuning\n",
    "param_dist = {\n",
    "    'n_estimators': [100, 300, 500, 700],\n",
    "    'learning_rate': [0.01, 0.03, 0.05, 0.2],\n",
    "    'max_depth': [ 5, 7, 9],\n",
    "    'min_child_weight': [1, 3, 5],\n",
    "    'subsample': [0.6, 0.75, 0.9],\n",
    "    'colsample_bytree': [0.6, 0.8, 1.0],\n",
    "    'reg_lambda': [0.1, 0.1, 1, 10],  # L2 regularization\n",
    "    'reg_alpha': [0.1, 0.1, 1, 10]   # L1 regularization\n",
    "}\n",
    "\n",
    "# Initialize RandomizedSearchCV\n",
    "random_search = RandomizedSearchCV(\n",
    "    estimator=xgb,\n",
    "    param_distributions=param_dist,\n",
    "    scoring='neg_mean_absolute_error',\n",
    "    n_iter=50,  # Run 20 different random combinations\n",
    "    cv=5,\n",
    "    verbose=1,\n",
    "    n_jobs=-1,\n",
    "    random_state=42\n",
    ")\n",
    "\n",
    "# Train and optimize model\n",
    "random_search.fit(X_train_scaled, y_train)\n",
    "\n",
    "# Retrieve the best model\n",
    "best_xgb = random_search.best_estimator_\n",
    "\n",
    "# Make predictions using the best model\n",
    "y_pred = best_xgb.predict(X_test_scaled)\n",
    "\n",
    "# Calculate evaluation metrics\n",
    "mae = mean_absolute_error(y_test, y_pred)\n",
    "mse = mean_squared_error(y_test, y_pred)\n",
    "rmse = np.sqrt(mse)\n",
    "r2 = r2_score(y_test, y_pred)\n",
    "\n",
    "# Print performance results\n",
    "print(f\"Optimized XGBoost - MAE: {mae}\")\n",
    "print(f\"Optimized XGBoost - MSE: {mse}\")\n",
    "print(f\"Optimized XGBoost - RMSE: {rmse}\")\n",
    "print(f\"Optimized XGBoost - R²: {r2}\")\n",
    "\n",
    "# Print best hyperparameters\n",
    "print(f\"Best Parameters: {random_search.best_params_}\")\n",
    "\n"
   ]
  },
  {
   "cell_type": "code",
   "execution_count": 8,
   "id": "55adee3b-c0e2-445d-9ec8-58924eb01059",
   "metadata": {},
   "outputs": [
    {
     "name": "stdout",
     "output_type": "stream",
     "text": [
      "0\n",
      "This cell was executed.\n"
     ]
    }
   ],
   "source": [
    "if execute_cell_8:\n",
    "  print(X_train.isnull().sum().sum())  # Should print 0\n",
    "  print(\"This cell was executed.\")\n",
    "else:\n",
    "    print(\"This cell was skipped.\")\n",
    "\n",
    "\n"
   ]
  },
  {
   "cell_type": "code",
   "execution_count": 9,
   "id": "9c4b4230-2f11-4b62-a194-c9f7f220dad4",
   "metadata": {},
   "outputs": [
    {
     "name": "stdout",
     "output_type": "stream",
     "text": [
      "Train R²: 0.9997966762226359\n",
      "Test R²: 0.9986167995732044\n",
      "Train MAE: 0.43491540609249735\n",
      "Test MAE: 1.0454001956515846\n"
     ]
    }
   ],
   "source": [
    " import xgboost as xgb\n",
    "from sklearn.metrics import mean_absolute_error, mean_squared_error, r2_score\n",
    "from sklearn.metrics import mean_absolute_error, mean_squared_error, r2_score\n",
    "\n",
    "# Check on train and test sets\n",
    "y_train_pred = best_xgb.predict(X_train_scaled)\n",
    "y_test_pred = best_xgb.predict(X_test_scaled)\n",
    "\n",
    "print(\"Train R²:\", r2_score(y_train, y_train_pred))\n",
    "print(\"Test R²:\", r2_score(y_test, y_test_pred))\n",
    "\n",
    "print(\"Train MAE:\", mean_absolute_error(y_train, y_train_pred))\n",
    "print(\"Test MAE:\", mean_absolute_error(y_test, y_test_pred))  \n"
   ]
  },
  {
   "cell_type": "code",
   "execution_count": 10,
   "id": "ff0142ba-6e59-476c-93be-71efdc9facc3",
   "metadata": {},
   "outputs": [
    {
     "name": "stdout",
     "output_type": "stream",
     "text": [
      "not fit again\n",
      "Model and Scaler saved successfully!\n"
     ]
    }
   ],
   "source": [
    "import joblib\n",
    "from sklearn.preprocessing import StandardScaler  # or StandardScaler\n",
    "if execute_cell_10:\n",
    "# Assuming you used a scaler during training\n",
    " scaler = StandardScaler()\n",
    " scaler.fit(X_train)  # Fit on training data\n",
    "else:\n",
    " print(\"not fit again\") \n",
    "# Save both model and scaler\n",
    "joblib.dump(best_xgb, \"xgboost_model.pkl\", compress=3)\n",
    "joblib.dump(scaler, \"scaler.pkl\")\n",
    "\n",
    "print(\"Model and Scaler saved successfully!\")\n",
    "  "
   ]
  },
  {
   "cell_type": "code",
   "execution_count": 11,
   "id": "b8fa2484-cd27-4849-a290-c316f106bf7a",
   "metadata": {},
   "outputs": [
    {
     "name": "stdout",
     "output_type": "stream",
     "text": [
      "True\n"
     ]
    }
   ],
   "source": [
    "import os\n",
    "print(os.path.exists(\"xgboost_model.pkl\"))  # Should return True if the file exists\n"
   ]
  },
  {
   "cell_type": "code",
   "execution_count": 21,
   "id": "2fe4803c-d6ea-4b95-9344-fc7a6d5e193c",
   "metadata": {},
   "outputs": [
    {
     "name": "stdout",
     "output_type": "stream",
     "text": [
      "Sample Training Predictions: [228.64458 117.95024 208.05028 215.6171  140.12102 130.75159 160.5816\n",
      " 227.9621  143.47275 170.97594]\n"
     ]
    }
   ],
   "source": [
    "import joblib\n",
    "import numpy as np\n",
    "\n",
    "# Load the saved model and scaler\n",
    "model = joblib.load(\"xgboost_model.pkl\")\n",
    "scaler = joblib.load(\"scaler.pkl\")\n",
    "\n",
    "# Check predictions on training data\n",
    "X_train_scaled = scaler.transform(X_train)  # Ensure this matches training process\n",
    "y_train_pred = model.predict(X_train_scaled)\n",
    "\n",
    "print(\"Sample Training Predictions:\", y_train_pred[:10])\n"
   ]
  },
  {
   "cell_type": "code",
   "execution_count": 20,
   "id": "b0f01972-84b0-4ba2-ad7b-05e7a6649f9b",
   "metadata": {},
   "outputs": [
    {
     "name": "stdout",
     "output_type": "stream",
     "text": [
      "Loading model from: C:\\Users\\saifz\\Documents\\computersoftware\\Python\\stock_prediction_project\\src\\xgboost_model.pkl\n",
      "Loading scaler from: C:\\Users\\saifz\\Documents\\computersoftware\\Python\\stock_prediction_project\\src\\scaler.pkl\n",
      " * Serving Flask app '__main__'\n",
      " * Debug mode: on\n"
     ]
    },
    {
     "name": "stderr",
     "output_type": "stream",
     "text": [
      "C:\\Users\\saifz\\AppData\\Local\\Programs\\Python\\Python312\\Lib\\contextlib.py:137: UserWarning: mmap_mode \"r\" is not compatible with compressed file C:\\Users\\saifz\\Documents\\computersoftware\\Python\\stock_prediction_project\\src\\xgboost_model.pkl. \"r\" flag will be ignored.\n",
      "  return next(self.gen)\n",
      "WARNING: This is a development server. Do not use it in a production deployment. Use a production WSGI server instead.\n",
      " * Running on all addresses (0.0.0.0)\n",
      " * Running on http://127.0.0.1:5000\n",
      " * Running on http://192.168.0.116:5000\n",
      "Press CTRL+C to quit\n",
      " * Restarting with stat\n"
     ]
    },
    {
     "ename": "SystemExit",
     "evalue": "1",
     "output_type": "error",
     "traceback": [
      "An exception has occurred, use %tb to see the full traceback.\n",
      "\u001b[1;31mSystemExit\u001b[0m\u001b[1;31m:\u001b[0m 1\n"
     ]
    },
    {
     "name": "stderr",
     "output_type": "stream",
     "text": [
      "C:\\Users\\saifz\\AppData\\Local\\Programs\\Python\\Python312\\Lib\\site-packages\\IPython\\core\\interactiveshell.py:3585: UserWarning: To exit: use 'exit', 'quit', or Ctrl-D.\n",
      "  warn(\"To exit: use 'exit', 'quit', or Ctrl-D.\", stacklevel=1)\n"
     ]
    }
   ],
   "source": [
    "import joblib\n",
    "import numpy as np\n",
    "import xgboost as xgb\n",
    "from flask import Flask, request, jsonify\n",
    "import os\n",
    "\n",
    "# Get absolute paths\n",
    "model_path = os.path.abspath(\"xgboost_model.pkl\")\n",
    "scaler_path = os.path.abspath(\"scaler.pkl\")  # Load the same scaler used in training\n",
    "\n",
    "print(f\"Loading model from: {model_path}\")\n",
    "print(f\"Loading scaler from: {scaler_path}\")\n",
    "\n",
    "# Load model and scaler\n",
    "model = joblib.load(model_path, mmap_mode=\"r\")\n",
    "scaler = joblib.load(scaler_path)  # Load the MinMaxScaler or StandardScaler\n",
    "\n",
    "\n",
    "\n",
    "\n",
    "# Initialize Flask app\n",
    "app = Flask(__name__)\n",
    "\n",
    "@app.route(\"/\")\n",
    "def home():\n",
    "    return \"Flask API for Stock Prediction is Running!\"\n",
    "\n",
    "@app.route(\"/predict\", methods=[\"POST\", \"GET\"])\n",
    "def predict():\n",
    "    try:\n",
    "        if request.method == \"GET\":\n",
    "            return jsonify({\"message\": \"Use POST with JSON data to get predictions\"}), 200\n",
    "\n",
    "        # Get JSON data from request\n",
    "        data = request.get_json()\n",
    "\n",
    "        # Ensure data is in correct format (list of feature values)\n",
    "        features = np.array(data[\"features\"]).reshape(1, -1)\n",
    "\n",
    "        #ensure the features list has the correct number of inputs:\n",
    "        if len(features[0]) != X_train.shape[1]:\n",
    "          return jsonify({\"error\": \"Feature size mismatch\"}), 400\n",
    "        \n",
    "        # Scale the input features before prediction\n",
    "        features_scaled = scaler.transform(features)\n",
    "\n",
    "        # Make prediction\n",
    "        prediction = model.predict(features_scaled)\n",
    "\n",
    "        # Return prediction as JSON response\n",
    "        return jsonify({\"prediction\": prediction.tolist()})\n",
    "    \n",
    "    except Exception as e:\n",
    "        return jsonify({\"error\": str(e)})\n",
    "\n",
    "# Run the app\n",
    "if __name__ == \"__main__\":\n",
    "    app.run(host=\"0.0.0.0\", port=5000, debug=True)\n"
   ]
  },
  {
   "cell_type": "code",
   "execution_count": null,
   "id": "f5842dab-3a25-4bee-85e4-fcf142d67184",
   "metadata": {},
   "outputs": [],
   "source": [
    "print(\"X_train_scaled shape:\", X_train_scaled.shape)\n",
    "print(\"y_train shape:\", y_train.shape)\n"
   ]
  },
  {
   "cell_type": "code",
   "execution_count": null,
   "id": "a3d31a03-e43c-495c-a079-da125ba88fcf",
   "metadata": {},
   "outputs": [],
   "source": [
    "print(\"Feature Importances:\", best_xgb.feature_importances_)\n"
   ]
  },
  {
   "cell_type": "code",
   "execution_count": null,
   "id": "b5029ab5-d854-407d-9e5e-5a1d61fad679",
   "metadata": {},
   "outputs": [],
   "source": [
    "print(\"Sample Scaled Features:\", X_train_scaled[:5])\n"
   ]
  },
  {
   "cell_type": "code",
   "execution_count": null,
   "id": "7b3a2ddf-c9ae-4e1a-8b7d-f6ca333c6576",
   "metadata": {},
   "outputs": [],
   "source": [
    "import matplotlib.pyplot as plt\n",
    "import numpy as np\n",
    "\n",
    "# Feature names (update with actual names if available)\n",
    "feature_names = [\"Feature 1\", \"Feature 2\", \"Feature 3\", \"Feature 4\"]\n",
    "feature_importances = np.array([1.0780316e-01, 4.7769189e-01, 4.1415021e-01, 3.5477889e-04])\n",
    "\n",
    "# Plot feature importance\n",
    "plt.figure(figsize=(8, 5))\n",
    "plt.barh(feature_names, feature_importances, color=\"skyblue\")\n",
    "plt.xlabel(\"Importance Score\")\n",
    "plt.title(\"Feature Importance Visualization\")\n",
    "plt.gca().invert_yaxis()  # Invert y-axis for better readability\n",
    "plt.show()\n"
   ]
  },
  {
   "cell_type": "code",
   "execution_count": null,
   "id": "54fcf0e7-2678-4188-8715-11a450f99a98",
   "metadata": {},
   "outputs": [],
   "source": [
    "%tb\n"
   ]
  },
  {
   "cell_type": "code",
   "execution_count": 14,
   "id": "cea3cbfb-6bf7-4a3e-a563-97e10e6063d3",
   "metadata": {},
   "outputs": [
    {
     "name": "stdout",
     "output_type": "stream",
     "text": [
      "Response: {'prediction': [57.90605926513672]}\n"
     ]
    }
   ],
   "source": [
    "import requests\n",
    "\n",
    "url = \"http://127.0.0.1:5000/predict\"\n",
    "data = {\"features\": [1.2, 3.4, 5.6, 7.8, 2.3, 4.5, 6.7]}  # Update with actual feature values\n",
    "response = requests.post(url, json=data)\n",
    "\n",
    "print(\"Response:\", response.json())"
   ]
  },
  {
   "cell_type": "code",
   "execution_count": null,
   "id": "5f4f7d55-2069-4723-8cdc-f6a90bb472a0",
   "metadata": {},
   "outputs": [],
   "source": [
    "data = {\"features\": [2.1, 4.3, 6.5, 8.7, 3.2, 5.4, 7.6]}  \n",
    "response = requests.post(url, json=data)  \n",
    "print(\"Response:\", response.json())\n"
   ]
  },
  {
   "cell_type": "code",
   "execution_count": null,
   "id": "6a053e51-e544-41c8-96fb-c542f32cc83b",
   "metadata": {},
   "outputs": [],
   "source": [
    "data = {\"features\": [500, 500, 300, 1400, 500, 1600, 2700]}\n",
    "response = requests.post(url, json=data)  \n",
    "print(\"Response:\", response.json())\n"
   ]
  },
  {
   "cell_type": "code",
   "execution_count": null,
   "id": "6c3e4273-b1d3-4de0-abeb-1693914faf87",
   "metadata": {},
   "outputs": [],
   "source": [
    "data = {\"features\": [10, 20, 30, 40, 50, 60, 70]}\n",
    "response = requests.post(url, json=data)  \n",
    "print(\"Response:\", response.json())"
   ]
  },
  {
   "cell_type": "code",
   "execution_count": null,
   "id": "af522139-ff93-43c1-95d4-c02050e58883",
   "metadata": {},
   "outputs": [],
   "source": [
    "data = {\"features\": [-5, 0, 5, 10, 15, 20, 25]}\n",
    "response = requests.post(url, json=data)  \n",
    "print(\"Response:\", response.json())"
   ]
  },
  {
   "cell_type": "code",
   "execution_count": null,
   "id": "036cbf2c-4938-4c23-8b1e-5241396868cd",
   "metadata": {},
   "outputs": [],
   "source": [
    "data = {\"features\": [100, 200, 15, 210, 1115, 120, 225]}\n",
    "response = requests.post(url, json=data)  \n",
    "print(\"Response:\", response.json())"
   ]
  },
  {
   "cell_type": "code",
   "execution_count": null,
   "id": "653c1049-635e-429e-bbbc-f25086ab121f",
   "metadata": {},
   "outputs": [],
   "source": [
    "data = {\"features\": [-6, 1, 4, 11, 14, 21, 26]}\n",
    "response = requests.post(url, json=data)  \n",
    "print(\"Response:\", response.json())"
   ]
  },
  {
   "cell_type": "code",
   "execution_count": null,
   "id": "1f777261-6533-44e7-9231-6a097ed3dc66",
   "metadata": {},
   "outputs": [],
   "source": [
    "import pandas as pd\n",
    "\n",
    "# Assuming `X_train` was used to train the model\n",
    "print(\"Training Data Sample:\")\n",
    "print(pd.DataFrame(X_train).head())  # Print first few rows\n",
    "\n",
    "print(\"\\nFeature Min Values:\", X_train.min(axis=0))\n",
    "print(\"Feature Max Values:\", X_train.max(axis=0))\n"
   ]
  },
  {
   "cell_type": "code",
   "execution_count": null,
   "id": "2b33d3c5-cf6a-4d8d-8564-3bbcee7a7fe1",
   "metadata": {},
   "outputs": [],
   "source": [
    "import os\n",
    "print(os.path.exists(\"xgboost_model.pkl\"))"
   ]
  },
  {
   "cell_type": "code",
   "execution_count": null,
   "id": "b501fb05-377d-45d2-80e7-e6de99404dd8",
   "metadata": {},
   "outputs": [],
   "source": [
    "import os\n",
    "\n",
    "print(\"Model exists:\", os.path.exists(\"xgboost_model.pkl\"))\n",
    "print(\"Scaler exists:\", os.path.exists(\"scaler.pkl\"))\n"
   ]
  },
  {
   "cell_type": "code",
   "execution_count": null,
   "id": "cf2b5978-eb16-4fd6-bc15-dc8acc7e3f70",
   "metadata": {},
   "outputs": [],
   "source": [
    "import joblib\n",
    "\n",
    "try:\n",
    "    model = joblib.load(\"xgboost_model.pkl\")\n",
    "    print(\"Model loaded successfully!\")\n",
    "except Exception as e:\n",
    "    print(\"Error loading model:\", e)\n",
    "\n",
    "try:\n",
    "    scaler = joblib.load(\"scaler.pkl\")\n",
    "    print(\"Scaler loaded successfully!\")\n",
    "except Exception as e:\n",
    "    print(\"Error loading scaler:\", e)\n"
   ]
  },
  {
   "cell_type": "code",
   "execution_count": null,
   "id": "30f9ae51-20ea-4435-90b6-fd589aeffdb6",
   "metadata": {},
   "outputs": [],
   "source": [
    "@app.route(\"/predict\", methods=[\"POST\"])\n",
    "def predict():\n",
    "    try:\n",
    "        data = request.get_json()\n",
    "        print(\"Received JSON:\", data)  # Debugging line\n",
    "        \n",
    "        features = np.array(data[\"features\"]).reshape(1, -1)\n",
    "        features_scaled = scaler.transform(features)\n",
    "        prediction = model.predict(features_scaled)\n",
    "\n",
    "        return jsonify({\"prediction\": prediction.tolist()})\n",
    "    \n",
    "    except Exception as e:\n",
    "        return jsonify({\"error\": str(e)})\n"
   ]
  },
  {
   "cell_type": "code",
   "execution_count": null,
   "id": "d2b3621b-03c3-40bd-a386-d70afcfdd3e5",
   "metadata": {},
   "outputs": [],
   "source": [
    "print(app.url_map)\n"
   ]
  },
  {
   "cell_type": "code",
   "execution_count": null,
   "id": "3f9e89bd-04dd-44f2-9832-12fbbd8fa7f9",
   "metadata": {},
   "outputs": [],
   "source": [
    "import joblib\n",
    "import numpy as np\n",
    "\n",
    "# Load the saved model and scaler\n",
    "model = joblib.load(\"xgboost_model.pkl\")\n",
    "scaler = joblib.load(\"scaler.pkl\")\n",
    "\n",
    "# Check predictions on training data\n",
    "X_train_scaled = scaler.transform(X_train)  # Ensure this matches training process\n",
    "y_train_pred = model.predict(X_train_scaled)\n",
    "\n",
    "print(\"Sample Training Predictions:\", y_train_pred[:10])\n"
   ]
  },
  {
   "cell_type": "code",
   "execution_count": null,
   "id": "866abb8d-cd8d-4d8d-9e9b-d4e652e92a11",
   "metadata": {},
   "outputs": [],
   "source": [
    "X_test_scaled = scaler.transform(X_test)\n",
    "print(\"Scaled Features Range:\")\n",
    "print(\"Min:\", np.min(X_test_scaled, axis=0))\n",
    "print(\"Max:\", np.max(X_test_scaled, axis=0))\n"
   ]
  },
  {
   "cell_type": "code",
   "execution_count": null,
   "id": "c3a115fb-538f-4aaa-a4a2-deffbd7931cf",
   "metadata": {},
   "outputs": [],
   "source": [
    "import matplotlib.pyplot as plt\n",
    "\n",
    "xgb.plot_importance(model)\n",
    "plt.show()\n"
   ]
  },
  {
   "cell_type": "code",
   "execution_count": null,
   "id": "eaee86a0-1090-473e-9abb-74de1f7c2788",
   "metadata": {},
   "outputs": [],
   "source": [
    "import matplotlib.pyplot as plt\n",
    "from xgboost import plot_importance\n",
    "\n",
    "plot_importance(best_xgb)\n",
    "plt.show()\n"
   ]
  },
  {
   "cell_type": "code",
   "execution_count": null,
   "id": "0ff4cac8-e10f-4339-89f4-b3d8a86b9abb",
   "metadata": {},
   "outputs": [],
   "source": [
    "print(f\"y_train Min: {y_train.min()}, y_train Max: {y_train.max()}\")\n",
    "print(f\"y_test Min: {y_test.min()}, y_test Max: {y_test.max()}\")\n"
   ]
  },
  {
   "cell_type": "code",
   "execution_count": null,
   "id": "d24737ba-290f-4104-8f68-186c12960668",
   "metadata": {},
   "outputs": [],
   "source": [
    "print(\"Feature Variance After Scaling:\", np.var(X_train_scaled, axis=0))\n"
   ]
  },
  {
   "cell_type": "code",
   "execution_count": null,
   "id": "3dce31af-9770-4363-a38f-0f991994bca6",
   "metadata": {},
   "outputs": [],
   "source": [
    "print(pd.DataFrame(X_train_scaled).head())\n"
   ]
  },
  {
   "cell_type": "code",
   "execution_count": null,
   "id": "46d4336b-35dd-4b63-bc13-2c79d7837467",
   "metadata": {},
   "outputs": [],
   "source": [
    "y_train_pred = best_xgb.predict(X_train_scaled)\n",
    "print(\"Sample Training Predictions:\", y_train_pred[:10])\n"
   ]
  },
  {
   "cell_type": "code",
   "execution_count": null,
   "id": "4de554c3-deeb-4275-aaaa-61edd734b88c",
   "metadata": {},
   "outputs": [],
   "source": [
    "import matplotlib.pyplot as plt\n",
    "import pandas as pd\n",
    "\n",
    "# Get feature importance\n",
    "feature_importance = best_xgb.feature_importances_\n",
    "\n",
    "# Plot feature importance\n",
    "plt.figure(figsize=(8, 5))\n",
    "plt.bar(range(len(feature_importance)), feature_importance)\n",
    "plt.xlabel(\"Feature Index\")\n",
    "plt.ylabel(\"Importance Score\")\n",
    "plt.title(\"Feature Importance\")\n",
    "plt.show()\n"
   ]
  },
  {
   "cell_type": "code",
   "execution_count": null,
   "id": "b7eae7f1-fbc8-4529-9e32-b8129156f8fd",
   "metadata": {},
   "outputs": [],
   "source": [
    "from sklearn.linear_model import LinearRegression\n",
    "from sklearn.metrics import mean_absolute_error\n",
    "\n",
    "lr = LinearRegression()\n",
    "lr.fit(X_train_scaled, y_train)\n",
    "y_pred_lr = lr.predict(X_test_scaled)\n",
    "\n",
    "mae_lr = mean_absolute_error(y_test, y_pred_lr)\n",
    "print(f\"Linear Regression MAE: {mae_lr}\")\n"
   ]
  },
  {
   "cell_type": "code",
   "execution_count": null,
   "id": "980a4a2f-a42a-4e09-b951-322491cdacfa",
   "metadata": {},
   "outputs": [],
   "source": [
    "import shap\n",
    "import matplotlib.pyplot as plt\n",
    "\n",
    "# Create SHAP explainer\n",
    "explainer = shap.Explainer(best_xgb, X_train_scaled)\n",
    "shap_values = explainer(X_train_scaled)\n",
    "\n",
    "# SHAP summary plot\n",
    "shap.summary_plot(shap_values, X_train_scaled, feature_names=[\"Open\", \"High\", \"Low\", \"Inflation Rate\"])\n"
   ]
  },
  {
   "cell_type": "code",
   "execution_count": 15,
   "id": "3c88d51e-762e-4094-9411-ec6386542485",
   "metadata": {},
   "outputs": [
    {
     "name": "stdout",
     "output_type": "stream",
     "text": [
      "y_train mean: 152.76851625613142\n",
      "y_train std deviation: 42.09440871264333\n",
      "Unique y_train values: [ 54.44989395  58.46380615  58.58513641  58.77928543  59.40296936\n",
      "  59.58255005  59.86164093  60.12129974  60.24020767  61.71084595\n",
      "  61.83704758  62.95821762  64.56961823  64.59388733  65.03554535\n",
      "  65.12776184  66.3120575   66.33872986  66.37756348  66.74401093\n",
      "  66.84107971  67.20509338  67.60552216  68.62962341  68.71941376\n",
      "  69.02519989  69.24604034  69.57365417  69.91096497  70.15123749\n",
      "  70.2118988   71.0200119   71.1437912   71.29910278  72.00913239\n",
      "  72.21155548  72.24155426  72.36204529  72.5149231   72.58290863\n",
      "  72.71606445  73.40364838  73.46864319  73.71133423  74.72794342\n",
      "  74.79816437  74.86229706  74.87691498  74.93374634  74.9628067\n",
      "  75.13227844  75.32221222  75.37680054  75.46579742  75.70121765\n",
      "  75.7772522   75.97064972  76.19821167  76.64109039  76.643013\n",
      "  76.65326691  76.73742676  76.91414642  76.91658783  77.06426239\n",
      "  77.07178497  77.10100555  77.16595459  77.19499969  77.28701019\n",
      "  77.36623383  77.40757751  77.56262207  77.59739685  77.66457367\n",
      "  77.73010254  78.03344727  78.31767273  78.41036224  78.43203735\n",
      "  78.52415466  78.68026733  78.73478699  78.85856628  79.11338043\n",
      "  79.4045639   81.14281464  81.73654175  82.44219971  85.09944916\n",
      "  85.55448914  85.58855438  85.67373657  85.85865021  86.05089569\n",
      "  87.32598114  87.61553955  88.6010437   88.76893616  88.77869415\n",
      "  89.18993378  90.1462326   90.76674652  90.97114563  92.2827301\n",
      "  92.5065918   92.80105591  92.93242645  93.20011902  93.36312866\n",
      "  93.62595367  93.75977325  94.41435242  94.47031403  94.67956543\n",
      "  95.12002563  95.73566437 103.42751312 104.17954254 104.4526062\n",
      " 106.06149292 106.65144348 106.74176025 107.12864685 107.33888245\n",
      " 107.5923996  107.68992615 108.34565735 109.02580261 109.21105194\n",
      " 109.33782196 109.48407745 109.92042542 110.01065063 110.19590759\n",
      " 110.20565033 110.86628723 111.20652008 111.24901581 111.75363159\n",
      " 112.08759308 112.09734344 112.1071167  112.175354   112.18512726\n",
      " 112.2143631  112.48738861 112.4958725  112.66290283 112.82622528\n",
      " 112.86769104 112.92617798 113.09195709 113.27731323 113.33590698\n",
      " 113.59900665 113.61917877 113.69650269 113.88178253 113.88289642\n",
      " 113.95980072 114.05730438 114.39858246 114.5838623  114.61548615\n",
      " 115.28946686 115.32980347 115.88531494 115.93414307 116.05625916\n",
      " 116.06600189 116.28578186 116.44206238 116.61790466 117.37908936\n",
      " 117.7041626  117.90734863 117.94793701 118.08444977 118.39646149\n",
      " 118.57254791 118.7486496  118.77796173 118.95237732 119.30622101\n",
      " 119.40406036 119.41149902 119.49209595 119.56775665 119.87361145\n",
      " 120.22220612 120.32359314 120.37849426 120.87666321 121.05712128\n",
      " 121.27302551 121.29206848 121.49201202 121.69963837 121.89710999\n",
      " 122.10562897 122.18400574 122.39746094 122.45838928 122.54656219\n",
      " 122.62245941 122.72348785 122.76215363 122.83769226 122.90914154\n",
      " 123.12136841 123.16049957 123.36968994 123.37192535 123.37948608\n",
      " 123.46376038 123.5754776  123.58309937 123.63252258 123.66047668\n",
      " 123.73225403 124.18795013 124.19281769 124.30059052 124.34959412\n",
      " 124.57498169 124.59139252 124.75136566 124.79055023 124.84237671\n",
      " 124.86191559 124.90769196 124.91074371 125.00937653 125.06807709\n",
      " 125.11698151 125.25262451 125.31260681 125.82672882 125.91686249\n",
      " 125.98522186 126.40523529 126.88762665 126.91694641 127.5234375\n",
      " 127.5342865  127.59307098 127.83803558 127.85089874 127.85766602\n",
      " 127.88018036 127.99299622 128.12036133 128.12797546 128.17422485\n",
      " 128.38432312 128.43664551 128.5355072  128.59950256 128.81788635\n",
      " 128.89601135 128.9058075  128.96438599 128.98394775 129.1413269\n",
      " 129.15710449 129.22746277 129.60908508 129.64105225 129.65248108\n",
      " 129.65600586 129.96784973 130.10603333 130.21362305 130.29188538\n",
      " 130.34449768 130.43479919 130.61514282 130.67338562 130.7102356\n",
      " 130.72875977 130.7794342  130.83009338 130.83508301 130.84863281\n",
      " 131.01293945 131.02539062 131.24078369 131.28733826 131.39729309\n",
      " 131.46577454 131.50491333 131.73847961 131.78860474 131.85566711\n",
      " 131.87669373 131.9059906  132.18965149 132.42445374 132.44398499\n",
      " 132.96403503 133.05052185 133.31988525 133.38751221 133.51620483\n",
      " 133.59005737 133.65597534 133.78419495 133.89323425 133.89997864\n",
      " 134.19993591 134.51116943 134.73765564 135.35855103 135.595047\n",
      " 135.84092712 136.26516724 136.28541565 136.38537598 136.52355957\n",
      " 136.54789734 136.5630188  136.78955078 137.14710999 137.15513611\n",
      " 137.21125793 137.896698   138.25054932 138.28489685 138.32487488\n",
      " 138.48118591 138.4825592  138.57621765 138.76147461 138.7782135\n",
      " 138.8638916  138.87368774 139.16574097 139.35462952 139.4881897\n",
      " 139.50749207 139.54747009 139.58706665 139.60153198 139.60603333\n",
      " 139.83595276 139.99246216 140.1690979  140.22956848 140.23782349\n",
      " 140.27708435 140.36120605 140.49295044 140.52612305 140.5401001\n",
      " 140.57180786 140.57955933 140.60919189 140.62055969 140.75796509\n",
      " 140.8918457  141.01048279 141.08180237 141.11247253 141.26750183\n",
      " 141.56402588 141.59588623 141.69529724 141.86250305 141.97105408\n",
      " 142.06622314 142.14170837 142.56242371 142.63160706 142.66184998\n",
      " 142.71298218 142.76947021 142.82933044 142.88754272 142.89871216\n",
      " 142.92852783 143.13287354 143.21269226 143.27212524 143.33895874\n",
      " 143.36839294 143.38049316 143.41746521 143.44789124 143.52041626\n",
      " 143.63339233 143.74514771 143.7585144  143.79806519 143.81983948\n",
      " 143.84967041 143.85922241 143.96704102 143.99659729 144.02107239\n",
      " 144.10441589 144.18164062 144.18293762 144.2280426  144.25276184\n",
      " 144.39839172 144.47770691 144.79138184 144.90802002 144.93759155\n",
      " 144.94474792 144.97702026 145.18197632 145.24523926 145.32702637\n",
      " 145.33630371 145.37614441 145.42927551 145.49591064 145.57426453\n",
      " 145.81468201 145.83164978 145.87088013 145.91996765 145.93824768\n",
      " 145.98866272 145.99565125 146.07701111 146.11621094 146.15242004\n",
      " 146.19474792 146.25364685 146.30888367 146.317276   146.32234192\n",
      " 146.3286438  146.4793396  146.53822327 146.55381775 146.57575989\n",
      " 146.60543823 146.68193054 146.69523621 146.8326416  146.92098999\n",
      " 146.99755859 147.0761261  147.07987976 147.22518921 147.38894653\n",
      " 147.41055298 147.42042542 147.42327881 147.4703064  147.4876709\n",
      " 147.85287476 147.87252808 147.90840149 147.97943115 147.99261475\n",
      " 148.1476593  148.21647644 148.21832275 148.3046875  148.4032135\n",
      " 148.45393372 148.45477295 148.67190552 148.6783905  148.79031372\n",
      " 148.81059265 148.96769714 148.98771667 149.00144958 149.01756287\n",
      " 149.08650208 149.08657837 149.13600159 149.40190125 149.50230408\n",
      " 149.52209473 149.55116272 149.66880798 149.72769165 149.76731873\n",
      " 149.85522461 149.98609924 150.08642578 150.17391968 150.2674408\n",
      " 150.33972168 150.36929321 150.73233032 150.73445129 150.7875824\n",
      " 150.82102966 150.85040283 151.02693176 151.06654358 151.3265686\n",
      " 151.34373474 151.46255493 151.70158386 151.82000732 151.85580444\n",
      " 152.175354   152.26281738 152.29418945 152.31394958 152.43190002\n",
      " 152.45159912 152.50094604 152.87255859 153.0975647  153.45246887\n",
      " 153.69506836 153.77919006 153.91220093 154.07344055 154.11329651\n",
      " 154.27027893 154.29399109 154.29978943 154.51663208 154.83982849\n",
      " 155.06854248 155.13619995 155.15507507 155.15562439 155.30366516\n",
      " 155.4413147  155.82852173 155.88595581 156.07598877 156.25422668\n",
      " 156.69973755 156.75996399 156.93708801 156.94374084 157.03222656\n",
      " 157.0453186  157.51768494 157.68972778 157.68995667 157.78897095\n",
      " 158.05883789 158.50157166 158.63421631 159.05677795 159.15509033\n",
      " 159.16488647 159.16822815 159.26101685 159.61698914 160.14509583\n",
      " 160.15370178 160.35173035 160.41227722 160.56825256 160.59771729\n",
      " 160.73898315 160.9437561  161.28410339 161.36531067 161.47160339\n",
      " 161.68087769 161.6999054  161.93640137 162.12501526 162.13491821\n",
      " 162.43792725 162.45729065 162.47697449 162.65440369 162.74301147\n",
      " 162.75453186 163.01600647 163.17887878 163.25363159 163.37127686\n",
      " 163.37242126 163.37280273 163.40586853 163.57943726 163.58032227\n",
      " 163.67933655 163.72123718 163.7664032  163.9070282  163.97634888\n",
      " 164.13475037 164.2245636  164.56349182 164.73077393 164.80795288\n",
      " 164.98617554 164.9866333  165.06059265 165.36976624 165.67572021\n",
      " 165.77819824 165.95100403 165.95637512 166.12814331 166.18716431\n",
      " 166.25497437 166.27764893 166.72859192 166.83074951 166.8572998\n",
      " 166.87989807 166.9914856  167.01783752 167.21046448 167.37789917\n",
      " 167.40080261 167.49598694 167.65834045 167.79743958 167.89680481\n",
      " 167.98590088 168.02661133 168.04649353 168.19683838 168.20574951\n",
      " 168.22566223 168.23614502 168.50434875 168.78302002 168.85269165\n",
      " 168.91244507 169.04206848 169.05096436 169.09158325 169.18994141\n",
      " 169.20913696 169.22880554 169.23092651 169.26786804 169.29760742\n",
      " 169.37550354 169.39520264 169.44807434 169.5295105  169.79867554\n",
      " 169.840271   169.85510254 169.9276123  169.96427917 170.03485107\n",
      " 170.05502319 170.08206177 170.09368896 170.32575989 170.35964966\n",
      " 170.56462097 170.58766174 170.67410278 170.70883179 170.75805664\n",
      " 170.91595459 171.08338928 171.14561462 171.2023468  171.33200073\n",
      " 171.47035217 171.49977112 171.55805969 171.60714722 171.62214661\n",
      " 171.74127197 171.76776123 171.77424622 171.82582092 171.86332703\n",
      " 171.87841797 171.91183472 171.93403625 171.93814087 172.0422821\n",
      " 172.06910706 172.17807007 172.18696594 172.25808716 172.26864624\n",
      " 172.41586304 172.49549866 172.51133728 172.61947632 172.66447449\n",
      " 172.68460083 172.69932556 172.70422363 172.7177887  172.73397827\n",
      " 172.80001831 172.90357971 172.94245911 173.22042847 173.2484436\n",
      " 173.4691925  173.51821899 173.54199219 173.65106201 173.91873169\n",
      " 174.18334961 174.21315002 174.21736145 174.27709961 174.46133423\n",
      " 174.51626587 174.56059265 174.79885864 174.93544006 175.01725769\n",
      " 175.09667969 175.25248718 175.36468506 175.59474182 175.72027588\n",
      " 175.72305298 175.77262878 175.86106873 175.94049072 176.10644531\n",
      " 176.15888977 176.19859314 176.2066803  176.21652222 176.26808167\n",
      " 176.27801514 176.28814697 176.29512024 176.43685913 176.49639893\n",
      " 176.6096344  176.67510986 176.88357544 177.09204102 177.2288208\n",
      " 177.3092804  177.31045532 177.41966248 177.54870605 177.68766785\n",
      " 177.83032227 177.92591858 178.03297424 178.05499268 178.15426636\n",
      " 178.49179077 178.53857422 178.81567383 178.87896729 178.87991333\n",
      " 179.01446533 179.39115906 179.39515686 179.40110779 179.90054321\n",
      " 180.30860901 180.42222595 180.70674133 180.85604858 181.08279419\n",
      " 181.45320129 181.46316528 181.54275513 181.5791626  181.5897522\n",
      " 181.73083496 181.77171326 181.88119507 182.20669556 182.36535645\n",
      " 182.43684387 182.51817322 182.78036499 183.15036011 183.28456116\n",
      " 183.29949951 183.32698059 183.41621399 183.50352478 183.67396545\n",
      " 183.69709778 183.7026062  184.03507996 184.17037964 184.40756226\n",
      " 184.4823761  184.53208923 184.74084473 184.8104248  185.07182312\n",
      " 185.07881165 185.28753662 185.38903809 185.65603638 185.74481201\n",
      " 186.25402832 186.27044678 186.28466797 186.43991089 186.45974731\n",
      " 186.50306702 186.55992126 186.8021698  186.88793945 186.91777039\n",
      " 186.98518372 187.19610596 187.50422668 187.61965942 187.95675659\n",
      " 188.17022705 188.23982239 188.27958679 188.31974792 188.57780457\n",
      " 188.65730286 188.83624268 188.89855957 189.03733826 189.04728699\n",
      " 189.08450317 189.20410156 189.23400879 189.26367188 189.34362793\n",
      " 189.50224304 189.52313232 189.65258789 189.68174744 190.09866333\n",
      " 190.15762329 190.16824341 190.26055908 190.28652954 190.40007019\n",
      " 190.41673279 190.58572388 190.64924622 190.80203247 191.08953857\n",
      " 191.17224121 191.2716217  191.38096619 191.46626282 191.55548096\n",
      " 191.70570374 191.89787292 191.95201111 191.99725342 192.02708435\n",
      " 192.06108093 192.26565552 192.31884766 192.42469788 192.44458008\n",
      " 192.47309875 192.82446289 193.01118469 193.11058044 193.33920288\n",
      " 193.38006592 193.41928101 193.51812744 193.54797363 193.69900513\n",
      " 193.82853699 193.92489624 194.01515198 194.14297485 194.54199219\n",
      " 194.75764465 195.7646637  196.23048401 196.3908844  196.92767334\n",
      " 206.5358429  206.79499817 207.4427948  208.36968994 208.56903076\n",
      " 208.97763062 209.11717224 209.91448975 211.77822876 212.35630798\n",
      " 212.53569031 212.59547424 213.38285828 215.51568604 215.84495544\n",
      " 216.0239563  216.31390381 216.76148987 217.05229187 217.22990417\n",
      " 217.50897217 217.6285553  217.80793762 219.12355042 219.53216553\n",
      " 219.62661743 220.20535278 220.33506775 220.36500549 220.78408813\n",
      " 221.20317078 221.23309326 221.33610535 221.89164734 222.0113678\n",
      " 222.17103577 222.230896   222.28079224 222.42048645 222.95928955\n",
      " 223.20982361 223.98373413 224.03691101 224.22650146 224.25628662\n",
      " 224.75288391 224.87275696 225.27420044 225.3939209  225.41389465\n",
      " 225.58183289 225.71322632 225.87287903 225.97265625 225.99261475\n",
      " 226.01257324 226.28196716 226.30194092 226.34184265 226.68109131\n",
      " 226.71073914 226.807724   226.87068176 226.98043823 227.02035522\n",
      " 227.05688477 227.28974915 227.52923584 227.69885254 227.76957703\n",
      " 227.96936035 228.02928162 228.11332703 228.26902771 228.49710083\n",
      " 228.53700256 228.74848938 229.03591919 229.59469604 229.61753845\n",
      " 229.76776123 230.06365967 230.25323486 230.79205322 230.90180969\n",
      " 231.6401825  232.19958496 232.61424255 232.88743591 233.15684509\n",
      " 233.3364563  233.61483765 234.03344727 234.4839325  234.67198181\n",
      " 234.80183411 235.34204102 237.0693512  239.32685852 242.38349915\n",
      " 242.57328796 242.74310303 242.77307129 246.47900391 247.77757263\n",
      " 247.85748291 249.51565552 250.14497375 250.76428223 251.92301941\n",
      " 254.98965454 255.30929565 257.91644287 258.73550415]\n"
     ]
    }
   ],
   "source": [
    "import numpy as np\n",
    "print(\"y_train mean:\", np.mean(y_train))\n",
    "print(\"y_train std deviation:\", np.std(y_train))\n",
    "print(\"Unique y_train values:\", np.unique(y_train))"
   ]
  },
  {
   "cell_type": "code",
   "execution_count": 16,
   "id": "1ec930c1-3bf3-4f32-9ca3-6860d09c55a1",
   "metadata": {},
   "outputs": [
    {
     "data": {
      "image/png": "[encoded data removed]",
      "text/plain": [
       "<Figure size 1000x600 with 1 Axes>"
      ]
     },
     "metadata": {},
     "output_type": "display_data"
    }
   ],
   "source": [
    "import matplotlib.pyplot as plt\n",
    "import seaborn as sns\n",
    "\n",
    "# Plot histogram with KDE\n",
    "plt.figure(figsize=(10, 6))\n",
    "sns.histplot(y_train, bins=50, kde=True, color='blue')\n",
    "\n",
    "# Labels and title\n",
    "plt.xlabel(\"Stock Price\", fontsize=14)\n",
    "plt.ylabel(\"Frequency\", fontsize=14)\n",
    "plt.title(\"Distribution of Stock Prices (y_train)\", fontsize=16)\n",
    "\n",
    "# Show plot\n",
    "plt.show()\n"
   ]
  },
  {
   "cell_type": "code",
   "execution_count": 17,
   "id": "66ac0c78-c793-45ca-acb8-abcdb6172b54",
   "metadata": {},
   "outputs": [
    {
     "data": {
      "text/plain": [
       "<Axes: title={'center': 'Feature importance'}, xlabel='F score', ylabel='Features'>"
      ]
     },
     "execution_count": 17,
     "metadata": {},
     "output_type": "execute_result"
    },
    {
     "data": {
      "image/png": "[encoded data removed]",
      "text/plain": [
       "<Figure size 640x480 with 1 Axes>"
      ]
     },
     "metadata": {},
     "output_type": "display_data"
    }
   ],
   "source": [
    "from xgboost import plot_importance\n",
    "plot_importance(model)\n"
   ]
  },
  {
   "cell_type": "code",
   "execution_count": 19,
   "id": "6cdda9cd-7750-4567-8aeb-351043384ce7",
   "metadata": {},
   "outputs": [
    {
     "data": {
      "image/png": "[encoded data removed]",
      "text/plain": [
       "<Figure size 1000x500 with 1 Axes>"
      ]
     },
     "metadata": {},
     "output_type": "display_data"
    }
   ],
   "source": [
    "import seaborn as sns\n",
    "import matplotlib.pyplot as plt\n",
    "\n",
    "corr = X_train.corrwith(y_train)\n",
    "plt.figure(figsize=(10,5))\n",
    "sns.barplot(x=corr.index, y=corr.values)\n",
    "plt.xticks(rotation=90)\n",
    "plt.title(\"Feature Correlation with Stock Price\")\n",
    "plt.show()\n",
    "\n"
   ]
  },
  {
   "cell_type": "code",
   "execution_count": null,
   "id": "be63371d-218d-4bad-9460-3710eef3a476",
   "metadata": {},
   "outputs": [],
   "source": []
  }
 ],
 "metadata": {
  "kernelspec": {
   "display_name": "Python 3 (ipykernel)",
   "language": "python",
   "name": "python3"
  },
  "language_info": {
   "codemirror_mode": {
    "name": "ipython",
    "version": 3
   },
   "file_extension": ".py",
   "mimetype": "text/x-python",
   "name": "python",
   "nbconvert_exporter": "python",
   "pygments_lexer": "ipython3",
   "version": "3.12.1"
  }
 },
 "nbformat": 4,
 "nbformat_minor": 5
}
